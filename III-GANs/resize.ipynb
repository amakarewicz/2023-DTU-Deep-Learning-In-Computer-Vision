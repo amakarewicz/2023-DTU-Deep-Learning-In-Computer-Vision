{
 "cells": [
  {
   "cell_type": "code",
   "execution_count": 16,
   "id": "fc73fa6d-f2ad-490a-acf5-71a35b32ae53",
   "metadata": {},
   "outputs": [],
   "source": [
    "import PIL \n",
    "from PIL import Image\n",
    "import glob \n",
    "import os "
   ]
  },
  {
   "cell_type": "code",
   "execution_count": 25,
   "id": "ad28c88b-cf27-428b-91df-a35c21893cc0",
   "metadata": {},
   "outputs": [],
   "source": [
    "path_bald = glob.glob('Bald/*', recursive=True)[:20]\n",
    "path_not_bald = glob.glob('NotBald/*', recursive=True)[:20]\n"
   ]
  },
  {
   "cell_type": "code",
   "execution_count": 26,
   "id": "f09bde8c-ce3e-4084-9b24-ba1fd6c98784",
   "metadata": {},
   "outputs": [],
   "source": [
    "for i in range(20):\n",
    "    (PIL.Image.open(path_bald[i])\n",
    "     .resize((1024, 1024))\n",
    "    ).save(f'BaldResized/bald_{i}.png')"
   ]
  },
  {
   "cell_type": "code",
   "execution_count": 27,
   "id": "20c14311-2c8a-4906-8444-100bd46ae1b2",
   "metadata": {},
   "outputs": [],
   "source": [
    "for i in range(20):\n",
    "    (PIL.Image.open(path_not_bald[i])\n",
    "     .resize((1024, 1024))\n",
    "    ).save(f'NotBaldResized/not_bald_{i}.png')"
   ]
  },
  {
   "cell_type": "code",
   "execution_count": null,
   "id": "098bb5d6-d4b9-4507-95a8-ae78c152637a",
   "metadata": {},
   "outputs": [],
   "source": []
  }
 ],
 "metadata": {
  "kernelspec": {
   "display_name": "Python 3 (ipykernel)",
   "language": "python",
   "name": "python3"
  },
  "language_info": {
   "codemirror_mode": {
    "name": "ipython",
    "version": 3
   },
   "file_extension": ".py",
   "mimetype": "text/x-python",
   "name": "python",
   "nbconvert_exporter": "python",
   "pygments_lexer": "ipython3",
   "version": "3.10.11"
  }
 },
 "nbformat": 4,
 "nbformat_minor": 5
}
