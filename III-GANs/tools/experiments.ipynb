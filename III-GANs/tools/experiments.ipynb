{
 "cells": [
  {
   "cell_type": "code",
   "execution_count": 1,
   "id": "5189c150",
   "metadata": {},
   "outputs": [],
   "source": [
    "import numpy as np"
   ]
  },
  {
   "cell_type": "code",
   "execution_count": 41,
   "id": "79a0913d",
   "metadata": {},
   "outputs": [],
   "source": [
    "step = 1.0\n",
    "projection = np.load('../latent_codes/seed0001/projected_w.npz')['w'] # [0]\n",
    "projection_transformed = projection.copy()\n",
    "direction = np.load('../stylegan2directions/smile.npy')"
   ]
  },
  {
   "cell_type": "code",
   "execution_count": 44,
   "id": "0d780b0c",
   "metadata": {},
   "outputs": [],
   "source": [
    "projection_transformed[0] = projection[0] + direction*step"
   ]
  },
  {
   "cell_type": "code",
   "execution_count": 48,
   "id": "000e40a4",
   "metadata": {},
   "outputs": [],
   "source": [
    "np.savez('../latent_codes/seed0001/smile_projected_w.npz', w=projection_transformed)"
   ]
  },
  {
   "cell_type": "code",
   "execution_count": null,
   "id": "045f8b35",
   "metadata": {},
   "outputs": [],
   "source": []
  }
 ],
 "metadata": {
  "kernelspec": {
   "display_name": "Python 3 (ipykernel)",
   "language": "python",
   "name": "python3"
  },
  "language_info": {
   "codemirror_mode": {
    "name": "ipython",
    "version": 3
   },
   "file_extension": ".py",
   "mimetype": "text/x-python",
   "name": "python",
   "nbconvert_exporter": "python",
   "pygments_lexer": "ipython3",
   "version": "3.10.11"
  }
 },
 "nbformat": 4,
 "nbformat_minor": 5
}
