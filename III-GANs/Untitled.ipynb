{
 "cells": [
  {
   "cell_type": "code",
   "execution_count": 1,
   "id": "86c01adc-93d6-41e4-81fe-5bda42fc3357",
   "metadata": {},
   "outputs": [],
   "source": [
    "%load_ext autoreload\n",
    "%autoreload 2    "
   ]
  },
  {
   "cell_type": "code",
   "execution_count": 2,
   "id": "088d2210-494b-46be-a7f0-62dd22ff971a",
   "metadata": {},
   "outputs": [],
   "source": [
    "import warnings\n",
    "warnings.filterwarnings(\"ignore\")"
   ]
  },
  {
   "cell_type": "code",
   "execution_count": null,
   "id": "a1b63c14-e271-4295-a507-a4adfc9c7484",
   "metadata": {
    "scrolled": true
   },
   "outputs": [],
   "source": [
    "%%capture\n",
    "#python stylegan2_ada_pytorch/projector.py --outdir=own-images/projected --target=own-images/raw/*.jpg --network=ffhq.pkl --save-video=False\n",
    "\n",
    "import os\n",
    "files_path = 'own-images/raw/'\n",
    "for filename in os.listdir(files_path):\n",
    "    print(filename)\n",
    "    if filename.endswith(\".jpg\"):\n",
    "        command = f'python stylegan2_ada_pytorch/projector.py --outdir=own-images/projected/{filename[:-4]}/ --target=own-images/raw/{filename} --network=ffhq.pkl --save-video=False'\n",
    "        os.system(command)"
   ]
  },
  {
   "cell_type": "code",
   "execution_count": null,
   "id": "c7d90126-9464-478a-9cf4-1a7bb585912f",
   "metadata": {},
   "outputs": [],
   "source": []
  }
 ],
 "metadata": {
  "kernelspec": {
   "display_name": "Python 3 (ipykernel)",
   "language": "python",
   "name": "python3"
  },
  "language_info": {
   "codemirror_mode": {
    "name": "ipython",
    "version": 3
   },
   "file_extension": ".py",
   "mimetype": "text/x-python",
   "name": "python",
   "nbconvert_exporter": "python",
   "pygments_lexer": "ipython3",
   "version": "3.10.11"
  }
 },
 "nbformat": 4,
 "nbformat_minor": 5
}
