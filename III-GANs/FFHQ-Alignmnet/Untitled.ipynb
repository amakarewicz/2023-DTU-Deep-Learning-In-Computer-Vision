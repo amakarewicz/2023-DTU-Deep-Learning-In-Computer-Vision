{
 "cells": [
  {
   "cell_type": "code",
   "execution_count": 2,
   "id": "e60c1c34-ea20-4d78-bac9-ac7d1ea7a54c",
   "metadata": {},
   "outputs": [],
   "source": [
    "import sys\n",
    "import os\n",
    "\n",
    "import numpy as np\n",
    "import scipy.ndimage\n",
    "import PIL.Image\n",
    "import face_alignment"
   ]
  },
  {
   "cell_type": "code",
   "execution_count": 3,
   "id": "2720003d-1be9-473c-b936-a8b845e79f24",
   "metadata": {},
   "outputs": [],
   "source": [
    "def image_align(src_file, dst_file, face_landmarks, output_size=256, transform_size=1024, enable_padding=True):\n",
    "        # Align function from FFHQ dataset pre-processing step\n",
    "        # https://github.com/NVlabs/ffhq-dataset/blob/master/download_ffhq.py\n",
    "\n",
    "        lm = np.array(face_landmarks)\n",
    "        lm_chin          = lm[0  : 17, :2]  # left-right\n",
    "        lm_eyebrow_left  = lm[17 : 22, :2]  # left-right\n",
    "        lm_eyebrow_right = lm[22 : 27, :2]  # left-right\n",
    "        lm_nose          = lm[27 : 31, :2]  # top-down\n",
    "        lm_nostrils      = lm[31 : 36, :2]  # top-down\n",
    "        lm_eye_left      = lm[36 : 42, :2]  # left-clockwise\n",
    "        lm_eye_right     = lm[42 : 48, :2]  # left-clockwise\n",
    "        lm_mouth_outer   = lm[48 : 60, :2]  # left-clockwise\n",
    "        lm_mouth_inner   = lm[60 : 68, :2]  # left-clockwise\n",
    "\n",
    "        # Calculate auxiliary vectors.\n",
    "        eye_left     = np.mean(lm_eye_left, axis=0)\n",
    "        eye_right    = np.mean(lm_eye_right, axis=0)\n",
    "        eye_avg      = (eye_left + eye_right) * 0.5\n",
    "        eye_to_eye   = eye_right - eye_left\n",
    "        mouth_left   = lm_mouth_outer[0]\n",
    "        mouth_right  = lm_mouth_outer[6]\n",
    "        mouth_avg    = (mouth_left + mouth_right) * 0.5\n",
    "        eye_to_mouth = mouth_avg - eye_avg\n",
    "\n",
    "        # Choose oriented crop rectangle.\n",
    "        x = eye_to_eye - np.flipud(eye_to_mouth) * [-1, 1]\n",
    "        x /= np.hypot(*x)\n",
    "        x *= max(np.hypot(*eye_to_eye) * 2.0, np.hypot(*eye_to_mouth) * 1.8)\n",
    "        y = np.flipud(x) * [-1, 1]\n",
    "        c = eye_avg + eye_to_mouth * 0.1\n",
    "        quad = np.stack([c - x - y, c - x + y, c + x + y, c + x - y])\n",
    "        qsize = np.hypot(*x) * 2\n",
    "\n",
    "        # Load in-the-wild image.\n",
    "        if not os.path.isfile(src_file):\n",
    "            print('\\nCannot find source image. Please run \"--wilds\" before \"--align\".')\n",
    "            return\n",
    "        img = PIL.Image.open(src_file)\n",
    "\n",
    "        # Shrink.\n",
    "        shrink = int(np.floor(qsize / output_size * 0.5))\n",
    "        if shrink > 1:\n",
    "            rsize = (int(np.rint(float(img.size[0]) / shrink)), int(np.rint(float(img.size[1]) / shrink)))\n",
    "            img = img.resize(rsize, PIL.Image.ANTIALIAS)\n",
    "            quad /= shrink\n",
    "            qsize /= shrink\n",
    "\n",
    "        # Crop.\n",
    "        border = max(int(np.rint(qsize * 0.1)), 3)\n",
    "        crop = (int(np.floor(min(quad[:,0]))), int(np.floor(min(quad[:,1]))), int(np.ceil(max(quad[:,0]))), int(np.ceil(max(quad[:,1]))))\n",
    "        crop = (max(crop[0] - border, 0), max(crop[1] - border, 0), min(crop[2] + border, img.size[0]), min(crop[3] + border, img.size[1]))\n",
    "        if crop[2] - crop[0] < img.size[0] or crop[3] - crop[1] < img.size[1]:\n",
    "            img = img.crop(crop)\n",
    "            quad -= crop[0:2]\n",
    "\n",
    "        # Pad.\n",
    "        pad = (int(np.floor(min(quad[:,0]))), int(np.floor(min(quad[:,1]))), int(np.ceil(max(quad[:,0]))), int(np.ceil(max(quad[:,1]))))\n",
    "        pad = (max(-pad[0] + border, 0), max(-pad[1] + border, 0), max(pad[2] - img.size[0] + border, 0), max(pad[3] - img.size[1] + border, 0))\n",
    "        if enable_padding and max(pad) > border - 4:\n",
    "            pad = np.maximum(pad, int(np.rint(qsize * 0.3)))\n",
    "            img = np.pad(np.float32(img), ((pad[1], pad[3]), (pad[0], pad[2]), (0, 0)), 'reflect')\n",
    "            h, w, _ = img.shape\n",
    "            y, x, _ = np.ogrid[:h, :w, :1]\n",
    "            mask = np.maximum(1.0 - np.minimum(np.float32(x) / pad[0], np.float32(w-1-x) / pad[2]), 1.0 - np.minimum(np.float32(y) / pad[1], np.float32(h-1-y) / pad[3]))\n",
    "            blur = qsize * 0.02\n",
    "            img += (scipy.ndimage.gaussian_filter(img, [blur, blur, 0]) - img) * np.clip(mask * 3.0 + 1.0, 0.0, 1.0)\n",
    "            img += (np.median(img, axis=(0,1)) - img) * np.clip(mask, 0.0, 1.0)\n",
    "            img = PIL.Image.fromarray(np.uint8(np.clip(np.rint(img), 0, 255)), 'RGB')\n",
    "            quad += pad[:2]\n",
    "\n",
    "        # Transform.\n",
    "        img = img.transform((transform_size, transform_size), PIL.Image.QUAD, (quad + 0.5).flatten(), PIL.Image.BILINEAR)\n",
    "        if output_size < transform_size:\n",
    "            img = img.resize((output_size, output_size), PIL.Image.ANTIALIAS)\n",
    "\n",
    "        # Save aligned image.\n",
    "        img.save(dst_file, 'PNG')"
   ]
  },
  {
   "cell_type": "code",
   "execution_count": 7,
   "id": "4a451a52-0e04-46a4-be6e-036cafec37a3",
   "metadata": {},
   "outputs": [
    {
     "name": "stdout",
     "output_type": "stream",
     "text": [
      "Bald\t\t data\t\t\t     latent_shift\n",
      "FFHQ-Alignmnet\t dnnlib\t\t\t     own-images\n",
      "NotBald\t\t ffhq.pkl\t\t     resize.ipynb\n",
      "README.md\t images\t\t\t     stylegan2_ada_pytorch\n",
      "Untitled Folder  latent_builder-Copy1.ipynb  testing.ipynb\n",
      "Untitled.ipynb\t latent_builder-Copy2.ipynb  torch_utils\n",
      "Untitled1.ipynb  latent_builder.ipynb\n",
      "age.npy\t\t latent_codes\n"
     ]
    }
   ],
   "source": [
    "! ls .. "
   ]
  },
  {
   "cell_type": "code",
   "execution_count": 21,
   "id": "c7ed8015-ff75-41fb-bf87-1674e788b513",
   "metadata": {},
   "outputs": [],
   "source": [
    "RAW_IMAGES_DIR = 'raw_images/test/'\n",
    "\n",
    "ALIGNED_IMAGES_DIR = './test_images_aligned'\n",
    "\n",
    "if not os.path.exists(ALIGNED_IMAGES_DIR):\n",
    "    os.makedirs(ALIGNED_IMAGES_DIR)\n",
    "\n",
    "landmarks_detector = face_alignment.FaceAlignment(face_alignment.LandmarksType.THREE_D, flip_input=False)\n"
   ]
  },
  {
   "cell_type": "code",
   "execution_count": 22,
   "id": "8d9a50a6-8f7b-4523-a6d2-3cb051df721c",
   "metadata": {},
   "outputs": [
    {
     "name": "stderr",
     "output_type": "stream",
     "text": [
      "/tmp/ipykernel_18114/2008574726.py:73: DeprecationWarning: QUAD is deprecated and will be removed in Pillow 10 (2023-07-01). Use Transform.QUAD instead.\n",
      "  img = img.transform((transform_size, transform_size), PIL.Image.QUAD, (quad + 0.5).flatten(), PIL.Image.BILINEAR)\n",
      "/tmp/ipykernel_18114/2008574726.py:73: DeprecationWarning: BILINEAR is deprecated and will be removed in Pillow 10 (2023-07-01). Use Resampling.BILINEAR instead.\n",
      "  img = img.transform((transform_size, transform_size), PIL.Image.QUAD, (quad + 0.5).flatten(), PIL.Image.BILINEAR)\n",
      "/tmp/ipykernel_18114/2008574726.py:75: DeprecationWarning: ANTIALIAS is deprecated and will be removed in Pillow 10 (2023-07-01). Use Resampling.LANCZOS instead.\n",
      "  img = img.resize((output_size, output_size), PIL.Image.ANTIALIAS)\n"
     ]
    }
   ],
   "source": [
    "\n",
    "for img_name in os.listdir(RAW_IMAGES_DIR):\n",
    "    raw_img_path = os.path.join(RAW_IMAGES_DIR, img_name)\n",
    "\n",
    "    for i, face_landmarks in enumerate(landmarks_detector.get_landmarks(raw_img_path), start=1):\n",
    " \n",
    "        aligned_face_path = os.path.join(ALIGNED_IMAGES_DIR, f'align-{img_name}')\n",
    "\n",
    "        image_align(raw_img_path, aligned_face_path, face_landmarks)"
   ]
  },
  {
   "cell_type": "code",
   "execution_count": null,
   "id": "e0d9cbf3-0ec0-4444-8ed9-7d052416bedb",
   "metadata": {},
   "outputs": [],
   "source": []
  }
 ],
 "metadata": {
  "kernelspec": {
   "display_name": "Python 3 (ipykernel)",
   "language": "python",
   "name": "python3"
  },
  "language_info": {
   "codemirror_mode": {
    "name": "ipython",
    "version": 3
   },
   "file_extension": ".py",
   "mimetype": "text/x-python",
   "name": "python",
   "nbconvert_exporter": "python",
   "pygments_lexer": "ipython3",
   "version": "3.10.11"
  }
 },
 "nbformat": 4,
 "nbformat_minor": 5
}
