{
 "cells": [
  {
   "cell_type": "code",
   "execution_count": 4,
   "id": "1079532d",
   "metadata": {},
   "outputs": [],
   "source": [
    "import numpy as np\n",
    "import csv\n",
    "# from tqdm.notebook import tqdm\n",
    "import torch\n",
    "import torch.nn as nn\n",
    "import torch.nn.functional as F\n",
    "import torchvision.datasets as datasets\n",
    "from torch.utils.data import DataLoader\n",
    "import torchvision.transforms as transforms\n",
    "import matplotlib.pyplot as plt\n",
    "\n",
    "from model import Network, SimpleNET, ResNet\n",
    "    \n",
    "from augmentation import transforms_0\n",
    "from train import train\n",
    "import re\n",
    "\n",
    "device = torch.device('cuda' if torch.cuda.is_available() else 'cpu')"
   ]
  },
  {
   "cell_type": "code",
   "execution_count": 2,
   "id": "50a04129",
   "metadata": {},
   "outputs": [],
   "source": [
    "BATCH_SIZE = 64\n",
    "trainset = datasets.ImageFolder('/dtu/datasets1/02514/hotdog_nothotdog/train', transform=transforms_0)\n",
    "train_loader = DataLoader(trainset, batch_size=BATCH_SIZE, shuffle=True, num_workers=1)\n",
    "\n",
    "testset = datasets.ImageFolder('/dtu/datasets1/02514/hotdog_nothotdog/test', transform=transforms_0)\n",
    "test_loader = DataLoader(testset, batch_size=BATCH_SIZE, shuffle=False, num_workers=1)"
   ]
  },
  {
   "cell_type": "code",
   "execution_count": 5,
   "id": "a42c8357",
   "metadata": {},
   "outputs": [],
   "source": [
    "test_classes = [re.split(\"/| \", c)[-2] for c, _ in testset.imgs]\n",
    "classes = set([re.split(\"/| \", c)[-2] for c, _ in testset.imgs])"
   ]
  },
  {
   "cell_type": "markdown",
   "id": "63366122",
   "metadata": {},
   "source": [
    "### Train the model (to be replaced with loading the model)"
   ]
  },
  {
   "cell_type": "code",
   "execution_count": 7,
   "id": "5eeee007",
   "metadata": {},
   "outputs": [],
   "source": [
    "transfer_model = torch.load('models/resnet50_head_ADAMW')"
   ]
  },
  {
   "cell_type": "code",
   "execution_count": 25,
   "id": "4234c90f",
   "metadata": {},
   "outputs": [
    {
     "data": {
      "text/plain": [
       "<All keys matched successfully>"
      ]
     },
     "execution_count": 25,
     "metadata": {},
     "output_type": "execute_result"
    }
   ],
   "source": [
    "custom_model = ResNet(4, 4).to(device)\n",
    "custom_model.load_state_dict(torch.load('results/final_model_weights'))"
   ]
  },
  {
   "cell_type": "code",
   "execution_count": 21,
   "id": "a797a4ee",
   "metadata": {},
   "outputs": [],
   "source": [
    "MODEL_NAME = 'ResNet'\n",
    "if MODEL_NAME == 'ResNet':\n",
    "    from config.ResNet_config import *\n",
    "else:\n",
    "    from config.baseline_config import *"
   ]
  },
  {
   "cell_type": "code",
   "execution_count": 22,
   "id": "1a486607",
   "metadata": {},
   "outputs": [],
   "source": [
    "if MODEL_NAME == 'ResNet':\n",
    "    model = eval(MODEL_NAME)(n_features=CONV_SIZE, num_res_blocks=NUM_BLOCKS)\n",
    "else:\n",
    "    model = eval(MODEL_NAME)()\n",
    "    \n",
    "model.to(device)\n",
    "loss = nn.BCELoss()\n",
    "optimizer = torch.optim.Adam(model.parameters(), lr=LEARNING_RATE) # , weight_decay=WEIGHT_DECAY)\n",
    "lr_scheduler = torch.optim.lr_scheduler.ExponentialLR(optimizer=optimizer, gamma=DECAY_RATE)"
   ]
  },
  {
   "cell_type": "code",
   "execution_count": 23,
   "id": "2e63da11",
   "metadata": {},
   "outputs": [
    {
     "data": {
      "application/vnd.jupyter.widget-view+json": {
       "model_id": "89f793cc589d4a7c857c944fbbcbdba8",
       "version_major": 2,
       "version_minor": 0
      },
      "text/plain": [
       "  0%|          | 0/20 [00:00<?, ?epoch/s]"
      ]
     },
     "metadata": {},
     "output_type": "display_data"
    },
    {
     "data": {
      "application/vnd.jupyter.widget-view+json": {
       "model_id": "0bf2bca2805648f8a97e810cfdd4de44",
       "version_major": 2,
       "version_minor": 0
      },
      "text/plain": [
       "  0%|          | 0/32 [00:00<?, ?it/s]"
      ]
     },
     "metadata": {},
     "output_type": "display_data"
    },
    {
     "name": "stdout",
     "output_type": "stream",
     "text": [
      "Loss train: 0.702\t test: 0.679\t Accuracy train: 52.7%\t test: 53.0%\n"
     ]
    },
    {
     "data": {
      "application/vnd.jupyter.widget-view+json": {
       "model_id": "752ca019d2c64270b2958d8b87a9535b",
       "version_major": 2,
       "version_minor": 0
      },
      "text/plain": [
       "  0%|          | 0/32 [00:00<?, ?it/s]"
      ]
     },
     "metadata": {},
     "output_type": "display_data"
    },
    {
     "name": "stdout",
     "output_type": "stream",
     "text": [
      "Loss train: 0.650\t test: 0.615\t Accuracy train: 62.9%\t test: 69.0%\n"
     ]
    },
    {
     "data": {
      "application/vnd.jupyter.widget-view+json": {
       "model_id": "4e3bd444d1c541969a6db4d60c594c03",
       "version_major": 2,
       "version_minor": 0
      },
      "text/plain": [
       "  0%|          | 0/32 [00:00<?, ?it/s]"
      ]
     },
     "metadata": {},
     "output_type": "display_data"
    },
    {
     "name": "stdout",
     "output_type": "stream",
     "text": [
      "Loss train: 0.594\t test: 0.563\t Accuracy train: 69.8%\t test: 72.1%\n"
     ]
    },
    {
     "data": {
      "application/vnd.jupyter.widget-view+json": {
       "model_id": "c9993cf1d7354c7db6fda987aa1d45a9",
       "version_major": 2,
       "version_minor": 0
      },
      "text/plain": [
       "  0%|          | 0/32 [00:00<?, ?it/s]"
      ]
     },
     "metadata": {},
     "output_type": "display_data"
    },
    {
     "name": "stdout",
     "output_type": "stream",
     "text": [
      "Loss train: 0.549\t test: 0.590\t Accuracy train: 73.8%\t test: 69.4%\n"
     ]
    },
    {
     "data": {
      "application/vnd.jupyter.widget-view+json": {
       "model_id": "3ad17e8e69804c2b88b8b8b36de1fb37",
       "version_major": 2,
       "version_minor": 0
      },
      "text/plain": [
       "  0%|          | 0/32 [00:00<?, ?it/s]"
      ]
     },
     "metadata": {},
     "output_type": "display_data"
    },
    {
     "name": "stdout",
     "output_type": "stream",
     "text": [
      "Loss train: 0.539\t test: 0.550\t Accuracy train: 75.2%\t test: 72.7%\n"
     ]
    },
    {
     "data": {
      "application/vnd.jupyter.widget-view+json": {
       "model_id": "4e30828e22fb4a7cb64d114c918ba129",
       "version_major": 2,
       "version_minor": 0
      },
      "text/plain": [
       "  0%|          | 0/32 [00:00<?, ?it/s]"
      ]
     },
     "metadata": {},
     "output_type": "display_data"
    },
    {
     "name": "stdout",
     "output_type": "stream",
     "text": [
      "Loss train: 0.530\t test: 0.543\t Accuracy train: 75.1%\t test: 73.3%\n"
     ]
    },
    {
     "data": {
      "application/vnd.jupyter.widget-view+json": {
       "model_id": "68ea0319b25941deab7fad65c91558f5",
       "version_major": 2,
       "version_minor": 0
      },
      "text/plain": [
       "  0%|          | 0/32 [00:00<?, ?it/s]"
      ]
     },
     "metadata": {},
     "output_type": "display_data"
    },
    {
     "name": "stdout",
     "output_type": "stream",
     "text": [
      "Loss train: 0.514\t test: 0.547\t Accuracy train: 76.6%\t test: 72.0%\n"
     ]
    },
    {
     "data": {
      "application/vnd.jupyter.widget-view+json": {
       "model_id": "4d6f2dd3dd7d4695a1b2629a65db3f5f",
       "version_major": 2,
       "version_minor": 0
      },
      "text/plain": [
       "  0%|          | 0/32 [00:00<?, ?it/s]"
      ]
     },
     "metadata": {},
     "output_type": "display_data"
    },
    {
     "name": "stdout",
     "output_type": "stream",
     "text": [
      "Loss train: 0.500\t test: 0.543\t Accuracy train: 77.3%\t test: 73.0%\n"
     ]
    },
    {
     "data": {
      "application/vnd.jupyter.widget-view+json": {
       "model_id": "1f6c5d3baaa145bbb5c20293bb148058",
       "version_major": 2,
       "version_minor": 0
      },
      "text/plain": [
       "  0%|          | 0/32 [00:00<?, ?it/s]"
      ]
     },
     "metadata": {},
     "output_type": "display_data"
    },
    {
     "name": "stdout",
     "output_type": "stream",
     "text": [
      "Loss train: 0.484\t test: 0.541\t Accuracy train: 78.4%\t test: 72.8%\n"
     ]
    },
    {
     "data": {
      "application/vnd.jupyter.widget-view+json": {
       "model_id": "1ccb09b5a0664d70ac604dcb8b5d5d41",
       "version_major": 2,
       "version_minor": 0
      },
      "text/plain": [
       "  0%|          | 0/32 [00:00<?, ?it/s]"
      ]
     },
     "metadata": {},
     "output_type": "display_data"
    },
    {
     "name": "stdout",
     "output_type": "stream",
     "text": [
      "Loss train: 0.475\t test: 0.538\t Accuracy train: 78.8%\t test: 73.2%\n"
     ]
    },
    {
     "data": {
      "application/vnd.jupyter.widget-view+json": {
       "model_id": "db33b0d454af4433b87a7a2d0361386f",
       "version_major": 2,
       "version_minor": 0
      },
      "text/plain": [
       "  0%|          | 0/32 [00:00<?, ?it/s]"
      ]
     },
     "metadata": {},
     "output_type": "display_data"
    },
    {
     "name": "stdout",
     "output_type": "stream",
     "text": [
      "Loss train: 0.455\t test: 0.603\t Accuracy train: 79.3%\t test: 69.6%\n"
     ]
    },
    {
     "data": {
      "application/vnd.jupyter.widget-view+json": {
       "model_id": "6b96a528a7304e09881f762ea66a605f",
       "version_major": 2,
       "version_minor": 0
      },
      "text/plain": [
       "  0%|          | 0/32 [00:00<?, ?it/s]"
      ]
     },
     "metadata": {},
     "output_type": "display_data"
    },
    {
     "name": "stdout",
     "output_type": "stream",
     "text": [
      "Loss train: 0.446\t test: 0.539\t Accuracy train: 80.3%\t test: 72.9%\n"
     ]
    },
    {
     "data": {
      "application/vnd.jupyter.widget-view+json": {
       "model_id": "a6719c91e7134024894c986c0921b50f",
       "version_major": 2,
       "version_minor": 0
      },
      "text/plain": [
       "  0%|          | 0/32 [00:00<?, ?it/s]"
      ]
     },
     "metadata": {},
     "output_type": "display_data"
    },
    {
     "name": "stdout",
     "output_type": "stream",
     "text": [
      "Loss train: 0.422\t test: 0.557\t Accuracy train: 82.5%\t test: 72.6%\n"
     ]
    },
    {
     "data": {
      "application/vnd.jupyter.widget-view+json": {
       "model_id": "e364b568c3b9447fa5b8cad5c2db3524",
       "version_major": 2,
       "version_minor": 0
      },
      "text/plain": [
       "  0%|          | 0/32 [00:00<?, ?it/s]"
      ]
     },
     "metadata": {},
     "output_type": "display_data"
    },
    {
     "name": "stdout",
     "output_type": "stream",
     "text": [
      "Loss train: 0.410\t test: 0.546\t Accuracy train: 82.4%\t test: 73.1%\n"
     ]
    },
    {
     "data": {
      "application/vnd.jupyter.widget-view+json": {
       "model_id": "aa3890d4653c41cf996f3efd8013c1c5",
       "version_major": 2,
       "version_minor": 0
      },
      "text/plain": [
       "  0%|          | 0/32 [00:00<?, ?it/s]"
      ]
     },
     "metadata": {},
     "output_type": "display_data"
    },
    {
     "name": "stdout",
     "output_type": "stream",
     "text": [
      "Loss train: 0.372\t test: 0.564\t Accuracy train: 84.3%\t test: 71.8%\n"
     ]
    },
    {
     "data": {
      "application/vnd.jupyter.widget-view+json": {
       "model_id": "15e57b7acabd4055b676ad427bda2edf",
       "version_major": 2,
       "version_minor": 0
      },
      "text/plain": [
       "  0%|          | 0/32 [00:00<?, ?it/s]"
      ]
     },
     "metadata": {},
     "output_type": "display_data"
    },
    {
     "name": "stdout",
     "output_type": "stream",
     "text": [
      "Loss train: 0.408\t test: 0.630\t Accuracy train: 81.6%\t test: 72.0%\n"
     ]
    },
    {
     "data": {
      "application/vnd.jupyter.widget-view+json": {
       "model_id": "63500c26d5d347d3a6c8c18ea732d8f2",
       "version_major": 2,
       "version_minor": 0
      },
      "text/plain": [
       "  0%|          | 0/32 [00:00<?, ?it/s]"
      ]
     },
     "metadata": {},
     "output_type": "display_data"
    },
    {
     "name": "stdout",
     "output_type": "stream",
     "text": [
      "Loss train: 0.292\t test: 0.597\t Accuracy train: 88.6%\t test: 72.6%\n"
     ]
    },
    {
     "data": {
      "application/vnd.jupyter.widget-view+json": {
       "model_id": "07bae28f81c941768bf12e1bd01267d2",
       "version_major": 2,
       "version_minor": 0
      },
      "text/plain": [
       "  0%|          | 0/32 [00:00<?, ?it/s]"
      ]
     },
     "metadata": {},
     "output_type": "display_data"
    },
    {
     "name": "stdout",
     "output_type": "stream",
     "text": [
      "Loss train: 0.240\t test: 0.580\t Accuracy train: 91.0%\t test: 72.1%\n"
     ]
    },
    {
     "data": {
      "application/vnd.jupyter.widget-view+json": {
       "model_id": "5d7986de14f74c44a0b1e0100384d3a8",
       "version_major": 2,
       "version_minor": 0
      },
      "text/plain": [
       "  0%|          | 0/32 [00:00<?, ?it/s]"
      ]
     },
     "metadata": {},
     "output_type": "display_data"
    },
    {
     "name": "stdout",
     "output_type": "stream",
     "text": [
      "Loss train: 0.182\t test: 0.657\t Accuracy train: 94.2%\t test: 72.6%\n"
     ]
    },
    {
     "data": {
      "application/vnd.jupyter.widget-view+json": {
       "model_id": "3d848353f4394ca2aabae4ef9d491fcf",
       "version_major": 2,
       "version_minor": 0
      },
      "text/plain": [
       "  0%|          | 0/32 [00:00<?, ?it/s]"
      ]
     },
     "metadata": {},
     "output_type": "display_data"
    },
    {
     "name": "stdout",
     "output_type": "stream",
     "text": [
      "Loss train: 0.142\t test: 0.592\t Accuracy train: 96.4%\t test: 73.1%\n"
     ]
    }
   ],
   "source": [
    "out_dict_adam = train(model, train_loader, test_loader, loss, optimizer, NUM_EPOCHS)"
   ]
  },
  {
   "cell_type": "markdown",
   "id": "55606f13",
   "metadata": {},
   "source": [
    "### Get misclassifications"
   ]
  },
  {
   "cell_type": "code",
   "execution_count": 32,
   "id": "4d8e649c",
   "metadata": {},
   "outputs": [],
   "source": [
    "transfer_outputs = None\n",
    "transfer_targets = None\n",
    "custom_outputs = None\n",
    "custom_targets = None\n",
    "\n",
    "for data, target in test_loader:\n",
    "    data = data.to(device)\n",
    "    with torch.no_grad():\n",
    "        transfer_output = transfer_model(data)\n",
    "        custom_output = custom_model(data)\n",
    "        \n",
    "    if transfer_outputs is None:\n",
    "        transfer_outputs = transfer_output\n",
    "        custom_outputs = custom_output\n",
    "        transfer_targets = target\n",
    "        custom_targets = target\n",
    "    else:\n",
    "        transfer_outputs = torch.cat((transfer_outputs, transfer_output))\n",
    "        transfer_targets = torch.cat((transfer_targets, target))\n",
    "        custom_outputs = torch.cat((custom_outputs, custom_output))\n",
    "        custom_targets = torch.cat((custom_targets, target))"
   ]
  },
  {
   "cell_type": "code",
   "execution_count": 35,
   "id": "979532f6",
   "metadata": {},
   "outputs": [],
   "source": [
    "transfer_predicted = (transfer_outputs > 0.5).type(torch.IntTensor)[:, 0]\n",
    "custom_predicted = (custom_outputs > 0.5).type(torch.IntTensor)[:, 0]\n",
    "transfer_acc = dict([(c, 0.) for c in classes])\n",
    "custom_acc = dict([(c, 0.) for c in classes])\n",
    "for c in classes:\n",
    "    transfer_acc[c] = ((transfer_predicted == transfer_targets) * (np.array(test_classes) == c)).sum().float() / ((np.array(test_classes) == c).sum()).astype(float)\n",
    "    custom_acc[c] = ((custom_predicted == custom_targets) * (np.array(test_classes) == c)).sum().float() / ((np.array(test_classes) == c).sum()).astype(float)"
   ]
  },
  {
   "cell_type": "code",
   "execution_count": 36,
   "id": "80b511de",
   "metadata": {},
   "outputs": [
    {
     "data": {
      "text/plain": [
       "{'pets': tensor(0.9943),\n",
       " 'furniture': tensor(0.9677),\n",
       " 'chilidog': tensor(0.9513),\n",
       " 'hotdog': tensor(0.9709),\n",
       " 'food': tensor(0.8830),\n",
       " 'people': tensor(0.9845),\n",
       " 'frankfurter': tensor(0.9342)}"
      ]
     },
     "execution_count": 36,
     "metadata": {},
     "output_type": "execute_result"
    }
   ],
   "source": [
    "transfer_acc"
   ]
  },
  {
   "cell_type": "code",
   "execution_count": 64,
   "id": "fb3f4225",
   "metadata": {},
   "outputs": [
    {
     "data": {
      "image/png": "[encoded data removed]",
      "text/plain": [
       "<Figure size 640x480 with 1 Axes>"
      ]
     },
     "metadata": {},
     "output_type": "display_data"
    }
   ],
   "source": [
    "acc = (transfer_predicted == transfer_targets).sum().float() / float(len(transfer_predicted))\n",
    "\n",
    "keys = list(transfer_acc.keys())\n",
    "values = list(transfer_acc.values())\n",
    "hotdog_keys = [keys[i] for i in [2, 3, 6]]\n",
    "nonhotdog_keys = [keys[i] for i in [0, 1, 4, 5]]\n",
    "hotdog_values = [values[i] for i in [2, 3, 6]]\n",
    "nonhotdog_values = [values[i] for i in [0, 1, 4, 5]]\n",
    "\n",
    "plt.bar(hotdog_keys, hotdog_values, label='hotdog')\n",
    "plt.bar(nonhotdog_keys, nonhotdog_values, label='nonhotdog')\n",
    "plt.axhline(y=acc, color='r', linestyle='--', label='test accuracy')\n",
    "plt.ylabel('Accuracy by group')\n",
    "plt.legend()\n",
    "plt.show()"
   ]
  },
  {
   "cell_type": "code",
   "execution_count": 65,
   "id": "7caab393",
   "metadata": {},
   "outputs": [
    {
     "data": {
      "text/plain": [
       "tensor(0.9565)"
      ]
     },
     "execution_count": 65,
     "metadata": {},
     "output_type": "execute_result"
    }
   ],
   "source": [
    "acc"
   ]
  },
  {
   "cell_type": "code",
   "execution_count": 37,
   "id": "8ae1413e",
   "metadata": {},
   "outputs": [
    {
     "data": {
      "text/plain": [
       "{'pets': tensor(0.3761),\n",
       " 'furniture': tensor(0.4409),\n",
       " 'chilidog': tensor(0.5942),\n",
       " 'hotdog': tensor(0.6017),\n",
       " 'food': tensor(0.3585),\n",
       " 'people': tensor(0.3178),\n",
       " 'frankfurter': tensor(0.5885)}"
      ]
     },
     "execution_count": 37,
     "metadata": {},
     "output_type": "execute_result"
    }
   ],
   "source": [
    "custom_acc"
   ]
  }
 ],
 "metadata": {
  "kernelspec": {
   "display_name": "Python 3 (ipykernel)",
   "language": "python",
   "name": "python3"
  },
  "language_info": {
   "codemirror_mode": {
    "name": "ipython",
    "version": 3
   },
   "file_extension": ".py",
   "mimetype": "text/x-python",
   "name": "python",
   "nbconvert_exporter": "python",
   "pygments_lexer": "ipython3",
   "version": "3.10.11"
  }
 },
 "nbformat": 4,
 "nbformat_minor": 5
}
