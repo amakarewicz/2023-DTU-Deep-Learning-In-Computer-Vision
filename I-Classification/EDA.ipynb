{
 "cells": [
  {
   "cell_type": "code",
   "execution_count": 1,
   "id": "10d7c795",
   "metadata": {},
   "outputs": [],
   "source": [
    "import numpy as np\n",
    "from tqdm.notebook import tqdm\n",
    "import torch\n",
    "import torch.nn as nn\n",
    "import torch.nn.functional as F\n",
    "import torchvision.datasets as datasets\n",
    "from torch.utils.data import DataLoader\n",
    "import torchvision.transforms as transforms\n",
    "import matplotlib.pyplot as plt"
   ]
  },
  {
   "cell_type": "code",
   "execution_count": 2,
   "id": "aef42ac2",
   "metadata": {},
   "outputs": [
    {
     "name": "stdout",
     "output_type": "stream",
     "text": [
      ":)\n"
     ]
    }
   ],
   "source": [
    "if torch.cuda.is_available():\n",
    "    print(\":)\")\n",
    "else:\n",
    "    print(\":(\")\n",
    "device = torch.device('cuda' if torch.cuda.is_available() else 'cpu')"
   ]
  },
  {
   "cell_type": "code",
   "execution_count": 20,
   "id": "5ae01726",
   "metadata": {},
   "outputs": [],
   "source": [
    "transformations = transforms.Compose([\n",
    "    transforms.Resize((300, 300)),\n",
    "    transforms.ToTensor()\n",
    "])"
   ]
  },
  {
   "cell_type": "code",
   "execution_count": 21,
   "id": "e469962a",
   "metadata": {},
   "outputs": [],
   "source": [
    "batch_size = 64\n",
    "trainset = datasets.ImageFolder('/dtu/datasets1/02514/hotdog_nothotdog/train', transform=transformations)\n",
    "train_loader = DataLoader(trainset, batch_size=batch_size, shuffle=True)"
   ]
  },
  {
   "cell_type": "code",
   "execution_count": 25,
   "id": "31d4088f",
   "metadata": {},
   "outputs": [
    {
     "name": "stdout",
     "output_type": "stream",
     "text": [
      "torch.Size([64, 3, 300, 300])\n",
      "torch.Size([64, 3, 300, 300])\n",
      "torch.Size([64, 3, 300, 300])\n",
      "torch.Size([64, 3, 300, 300])\n",
      "torch.Size([64, 3, 300, 300])\n",
      "torch.Size([64, 3, 300, 300])\n",
      "torch.Size([64, 3, 300, 300])\n",
      "torch.Size([64, 3, 300, 300])\n",
      "torch.Size([64, 3, 300, 300])\n",
      "torch.Size([64, 3, 300, 300])\n",
      "torch.Size([64, 3, 300, 300])\n",
      "torch.Size([64, 3, 300, 300])\n",
      "torch.Size([64, 3, 300, 300])\n",
      "torch.Size([64, 3, 300, 300])\n",
      "torch.Size([64, 3, 300, 300])\n",
      "torch.Size([64, 3, 300, 300])\n",
      "torch.Size([64, 3, 300, 300])\n",
      "torch.Size([64, 3, 300, 300])\n",
      "torch.Size([64, 3, 300, 300])\n",
      "torch.Size([64, 3, 300, 300])\n",
      "torch.Size([64, 3, 300, 300])\n",
      "torch.Size([64, 3, 300, 300])\n",
      "torch.Size([64, 3, 300, 300])\n",
      "torch.Size([64, 3, 300, 300])\n",
      "torch.Size([64, 3, 300, 300])\n",
      "torch.Size([64, 3, 300, 300])\n",
      "torch.Size([64, 3, 300, 300])\n",
      "torch.Size([64, 3, 300, 300])\n",
      "torch.Size([64, 3, 300, 300])\n",
      "torch.Size([64, 3, 300, 300])\n",
      "torch.Size([64, 3, 300, 300])\n",
      "torch.Size([63, 3, 300, 300])\n"
     ]
    }
   ],
   "source": [
    "for batch, _ in train_loader:\n",
    "    print(batch.shape)"
   ]
  }
 ],
 "metadata": {
  "kernelspec": {
   "display_name": "Python 3 (ipykernel)",
   "language": "python",
   "name": "python3"
  },
  "language_info": {
   "codemirror_mode": {
    "name": "ipython",
    "version": 3
   },
   "file_extension": ".py",
   "mimetype": "text/x-python",
   "name": "python",
   "nbconvert_exporter": "python",
   "pygments_lexer": "ipython3",
   "version": "3.10.11"
  }
 },
 "nbformat": 4,
 "nbformat_minor": 5
}
